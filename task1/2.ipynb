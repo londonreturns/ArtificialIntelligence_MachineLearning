{
  "cells": [
    {
      "cell_type": "code",
      "execution_count": null,
      "id": "fZY42KygsOfA",
      "metadata": {
        "colab": {
          "base_uri": "https://localhost:8080/"
        },
        "id": "fZY42KygsOfA",
        "outputId": "cbd2c6b2-5963-47c3-f435-b389fda45d0b"
      },
      "outputs": [],
      "source": [
        "from google.colab import drive\n",
        "drive.mount('/content/drive')"
      ]
    },
    {
      "cell_type": "code",
      "execution_count": null,
      "id": "VBmZfsHVsSEI",
      "metadata": {
        "id": "VBmZfsHVsSEI"
      },
      "outputs": [],
      "source": [
        "# import zipfile\n",
        "\n",
        "# with zipfile.ZipFile('/content/drive/MyDrive/pest-20250508T182454Z-001.zip', 'r') as zip_ref:\n",
        "#     zip_ref.extractall('/content/drive/MyDrive/pest')"
      ]
    },
    {
      "cell_type": "code",
      "execution_count": null,
      "id": "fF_3F1D8sSBA",
      "metadata": {
        "id": "fF_3F1D8sSBA"
      },
      "outputs": [],
      "source": [
        "import numpy as np\n",
        "import matplotlib.pyplot as plt\n",
        "import tensorflow as tf\n",
        "from tensorflow.keras.preprocessing.image import ImageDataGenerator\n",
        "import seaborn as sns\n",
        "from sklearn.metrics import classification_report, confusion_matrix\n",
        "from sklearn.utils.class_weight import compute_class_weight\n",
        "from tensorflow.keras.callbacks import EarlyStopping, ReduceLROnPlateau\n",
        "from tensorflow.keras.models import Sequential\n",
        "from tensorflow.keras.layers import Input,Conv2D, MaxPooling2D, Flatten, Dense, BatchNormalization, Dropout\n",
        "from tensorflow.keras import regularizers\n",
        "import os\n",
        "import time"
      ]
    },
    {
      "cell_type": "code",
      "execution_count": null,
      "id": "xG0M1kIlsR-A",
      "metadata": {
        "id": "xG0M1kIlsR-A"
      },
      "outputs": [],
      "source": [
        "base_dir = '/content/drive/MyDrive/pest/pest'\n",
        "\n",
        "\n",
        "train_dir = os.path.join(base_dir, 'train')\n",
        "test_dir = os.path.join(base_dir, 'test')"
      ]
    },
    {
      "cell_type": "code",
      "execution_count": null,
      "id": "QbUHC33QsR6_",
      "metadata": {
        "colab": {
          "base_uri": "https://localhost:8080/"
        },
        "id": "QbUHC33QsR6_",
        "outputId": "588fdc8e-926b-4ced-f8b8-682da7512776"
      },
      "outputs": [],
      "source": [
        "#No of Classes\n",
        "train_classes = sorted(os.listdir(train_dir))\n",
        "test_classes = sorted(os.listdir(test_dir))\n",
        "\n",
        "if not train_classes:\n",
        "    print(\"No class directories found in the train folder\")\n",
        "else:\n",
        "    print(f\"Found {len(train_classes)} classes: {train_classes}\")"
      ]
    },
    {
      "cell_type": "code",
      "execution_count": null,
      "id": "bAuxg5ePsR4J",
      "metadata": {
        "colab": {
          "base_uri": "https://localhost:8080/"
        },
        "id": "bAuxg5ePsR4J",
        "outputId": "9a6b1b6c-5917-4e75-e8c0-29b06d1e764f"
      },
      "outputs": [],
      "source": [
        "from PIL import Image, UnidentifiedImageError\n",
        "import os\n",
        "\n",
        "def clean_corrupted_images(directory):\n",
        "    print(f\"\\nChecking: {directory}\")\n",
        "    deleted_count = 0\n",
        "\n",
        "    for class_name in os.listdir(directory):\n",
        "        class_path = os.path.join(directory, class_name)\n",
        "\n",
        "        if os.path.isdir(class_path):\n",
        "            for img_name in os.listdir(class_path):\n",
        "                img_path = os.path.join(class_path, img_name)\n",
        "                try:\n",
        "                    with Image.open(img_path) as img:\n",
        "                        img.verify()\n",
        "                except (IOError, UnidentifiedImageError) as e:\n",
        "                    print(f\"Deleting corrupted image: {img_path} - Reason: {e}\")\n",
        "                    os.remove(img_path)\n",
        "                    deleted_count += 1\n",
        "\n",
        "    if deleted_count == 0:\n",
        "        print(\"No corrupted images found.\")\n",
        "    else:\n",
        "        print(f\"Done. Deleted {deleted_count} corrupted image(s).\")\n",
        "\n",
        "# Run cleaning\n",
        "clean_corrupted_images(train_dir)\n",
        "clean_corrupted_images(test_dir)"
      ]
    },
    {
      "cell_type": "code",
      "execution_count": null,
      "id": "j7GKoGQwsR1P",
      "metadata": {
        "colab": {
          "base_uri": "https://localhost:8080/"
        },
        "id": "j7GKoGQwsR1P",
        "outputId": "3a33a069-4c8f-4e95-91c0-c0cbf4ad6740"
      },
      "outputs": [],
      "source": [
        "import os\n",
        "\n",
        "def count_images_per_class(base_dir, class_names):\n",
        "    image_counts = {}\n",
        "    total = 0\n",
        "    for cls in class_names:\n",
        "        class_path = os.path.join(base_dir, cls)\n",
        "        num_images = len([\n",
        "            f for f in os.listdir(class_path)\n",
        "            if os.path.isfile(os.path.join(class_path, f))\n",
        "        ])\n",
        "        image_counts[cls] = num_images\n",
        "        total += num_images\n",
        "    return image_counts, total\n",
        "\n",
        "# Get class names\n",
        "train_classes = sorted(os.listdir(train_dir))\n",
        "test_classes = sorted(os.listdir(test_dir))\n",
        "\n",
        "# Count images\n",
        "train_counts, total_train = count_images_per_class(train_dir, train_classes)\n",
        "test_counts, total_test = count_images_per_class(test_dir, test_classes)\n",
        "\n",
        "# Collect all unique classes (for safety, in case train/test differ)\n",
        "all_classes = sorted(set(train_counts.keys()) | set(test_counts.keys()))\n",
        "\n",
        "# Header\n",
        "print(\"Images per Class\")\n",
        "print(\"=\" * 59)\n",
        "print(f\"{'Class Name':<30}{'Train Images':>15}{'Test Images':>15}\")\n",
        "print(\"=\" * 59)\n",
        "\n",
        "# Rows\n",
        "for cls in all_classes:\n",
        "    train_num = train_counts.get(cls, 0)\n",
        "    test_num = test_counts.get(cls, 0)\n",
        "    print(f\"{cls:<30}{train_num:>15}{test_num:>15}\")\n",
        "\n",
        "# Totals\n",
        "print(\"=\" * 59)\n",
        "print(f\"{'Total training images:':<30}{total_train}\")\n",
        "print(f\"{'Total testing images:':<30}{total_test}\")\n",
        "print(f\"{'Total images:':<30}{total_train + total_test}\")"
      ]
    },
    {
      "cell_type": "code",
      "execution_count": null,
      "id": "SC8h5cICsRyY",
      "metadata": {
        "id": "SC8h5cICsRyY"
      },
      "outputs": [],
      "source": [
        "# Define image size and batch size\n",
        "IMG_HEIGHT, IMG_WIDTH = 150, 150\n",
        "IMG_CHANNELS = 3\n",
        "BATCH_SIZE = 32"
      ]
    },
    {
      "cell_type": "code",
      "execution_count": null,
      "id": "uUeHtLZ3sRvI",
      "metadata": {
        "id": "uUeHtLZ3sRvI"
      },
      "outputs": [],
      "source": [
        "# Enhanced data augmentation to reduce overfitting\n",
        "datagen = ImageDataGenerator(\n",
        "    rescale=1./255,\n",
        "    rotation_range=20,  # Increased from 15\n",
        "    width_shift_range=0.2,  # Increased from 0.1\n",
        "    height_shift_range=0.2,  # Increased from 0.1\n",
        "    horizontal_flip=True,\n",
        "    zoom_range=0.2,  # Added\n",
        "    shear_range=0.2,  # Added\n",
        "    validation_split=0.2\n",
        ")"
      ]
    },
    {
      "cell_type": "code",
      "execution_count": null,
      "id": "9Qb0VesysRsY",
      "metadata": {
        "colab": {
          "base_uri": "https://localhost:8080/"
        },
        "id": "9Qb0VesysRsY",
        "outputId": "7cbf4646-d3ef-49df-c60f-76d1dbdbe102"
      },
      "outputs": [],
      "source": [
        "train_gen = datagen.flow_from_directory(\n",
        "    train_dir,\n",
        "    target_size=(IMG_HEIGHT, IMG_WIDTH),\n",
        "    batch_size=BATCH_SIZE,\n",
        "    class_mode='sparse',\n",
        "    subset='training'\n",
        ")"
      ]
    },
    {
      "cell_type": "code",
      "execution_count": null,
      "id": "aRpF9m8nsRpQ",
      "metadata": {
        "colab": {
          "base_uri": "https://localhost:8080/"
        },
        "id": "aRpF9m8nsRpQ",
        "outputId": "12d6d5e5-5310-4526-ed65-b8ba6c132695"
      },
      "outputs": [],
      "source": [
        "val_gen = datagen.flow_from_directory(\n",
        "    train_dir,\n",
        "    target_size=(IMG_HEIGHT, IMG_WIDTH),\n",
        "    batch_size=BATCH_SIZE,\n",
        "    class_mode='sparse',\n",
        "    subset='validation'\n",
        ")"
      ]
    },
    {
      "cell_type": "code",
      "execution_count": null,
      "id": "DOkZbuYvsRmX",
      "metadata": {
        "colab": {
          "base_uri": "https://localhost:8080/"
        },
        "id": "DOkZbuYvsRmX",
        "outputId": "5cd7216b-5cb7-4067-9e0f-8cb0799ca2c5"
      },
      "outputs": [],
      "source": [
        "test_gen = datagen.flow_from_directory(\n",
        "    test_dir,\n",
        "    target_size=(IMG_HEIGHT, IMG_WIDTH),\n",
        "    batch_size=BATCH_SIZE,\n",
        "    class_mode='sparse',\n",
        "    shuffle=False\n",
        ")"
      ]
    },
    {
      "cell_type": "code",
      "execution_count": null,
      "id": "81b69a59",
      "metadata": {},
      "outputs": [],
      "source": [
        "# Visualization-only generator (no rescale)\n",
        "viz_datagen = ImageDataGenerator(\n",
        "    rotation_range=20,\n",
        "    width_shift_range=0.2,\n",
        "    height_shift_range=0.2,\n",
        "    horizontal_flip=True,\n",
        "    zoom_range=0.2,\n",
        "    shear_range=0.2\n",
        ")\n",
        "\n",
        "sample_img, _ = next(train_gen)  # Get a batch\n",
        "img = sample_img[0]\n",
        "\n",
        "# Convert sample image back to uint8 for visualization\n",
        "img_uint8 = (img * 255).astype(np.uint8)  # Assuming img was normalized\n",
        "\n",
        "# Generate augmented images\n",
        "augmented_images = [img_uint8]\n",
        "for _ in range(8):\n",
        "    aug_iter = viz_datagen.flow(np.expand_dims(img_uint8, axis=0), batch_size=1)\n",
        "    aug_img = next(aug_iter)[0].astype(np.uint8)\n",
        "    augmented_images.append(aug_img)\n",
        "\n",
        "plt.figure(figsize=(10, 10))\n",
        "for i, aug_img in enumerate(augmented_images):\n",
        "    plt.subplot(3, 3, i + 1)\n",
        "    plt.imshow(aug_img)\n",
        "    plt.axis('off')\n",
        "    plt.title(\"Original\" if i == 0 else f\"Augmented {i}\")\n",
        "plt.suptitle(\"Augmentation Variations\")\n",
        "plt.tight_layout()\n",
        "plt.show()\n"
      ]
    },
    {
      "cell_type": "code",
      "execution_count": null,
      "id": "nHHzjnSssRjn",
      "metadata": {
        "colab": {
          "base_uri": "https://localhost:8080/"
        },
        "id": "nHHzjnSssRjn",
        "outputId": "14c25da5-2c76-4607-e061-9bb0e55caca0"
      },
      "outputs": [],
      "source": [
        "# Get class names and number of classes\n",
        "class_names = list(train_gen.class_indices.keys())\n",
        "NUM_CLASSES = len(class_names)\n",
        "print(f\"Number of classes: {NUM_CLASSES}\")\n",
        "print(f\"Class names: {class_names}\")"
      ]
    },
    {
      "cell_type": "code",
      "execution_count": null,
      "id": "h9GGMnbMsRgo",
      "metadata": {
        "colab": {
          "base_uri": "https://localhost:8080/"
        },
        "id": "h9GGMnbMsRgo",
        "outputId": "bcdc1b05-9e8d-4101-f075-628a93562a35"
      },
      "outputs": [],
      "source": [
        "# Compute class weights for imbalanced classes\n",
        "labels = train_gen.classes\n",
        "class_weights = compute_class_weight('balanced', classes=np.unique(labels), y=labels)\n",
        "class_weights_dict = dict(enumerate(class_weights))\n",
        "print(\"Class weights:\", class_weights_dict)"
      ]
    },
    {
      "cell_type": "code",
      "execution_count": null,
      "id": "wt1ky_W2sRdw",
      "metadata": {
        "colab": {
          "base_uri": "https://localhost:8080/"
        },
        "id": "wt1ky_W2sRdw",
        "outputId": "bb434a8e-6283-4123-94a5-d326e506e09c"
      },
      "outputs": [],
      "source": [
        "# Show class distribution\n",
        "unique, counts = np.unique(labels, return_counts=True)\n",
        "print(\"Class distribution:\")\n",
        "for cls, count in zip(unique, counts):\n",
        "    print(f\"Class {class_names[int(cls)]}: {count} samples\")"
      ]
    },
    {
      "cell_type": "code",
      "execution_count": null,
      "id": "gX5TV4HJsRan",
      "metadata": {
        "colab": {
          "base_uri": "https://localhost:8080/",
          "height": 448
        },
        "id": "gX5TV4HJsRan",
        "outputId": "07f886ce-8209-456a-a657-2e8d7442e944"
      },
      "outputs": [],
      "source": [
        "# Plot class distribution\n",
        "plt.figure(figsize=(6, 4))\n",
        "plt.bar(class_names, counts)\n",
        "plt.xticks(rotation=45)\n",
        "plt.title(\"Class Distribution\")\n",
        "plt.ylabel(\"Number of images\")\n",
        "plt.show()"
      ]
    },
    {
      "cell_type": "code",
      "execution_count": null,
      "id": "TcECVGMvsRX4",
      "metadata": {
        "colab": {
          "base_uri": "https://localhost:8080/",
          "height": 559
        },
        "id": "TcECVGMvsRX4",
        "outputId": "c0d7224f-7276-4479-8bc0-3891ef987a4f"
      },
      "outputs": [],
      "source": [
        "# Display sample images\n",
        "x_batch, y_batch = next(train_gen)\n",
        "plt.figure(figsize=(6, 6))\n",
        "for i in range(9):\n",
        "    plt.subplot(3, 3, i+1)\n",
        "    plt.imshow(x_batch[i])\n",
        "    plt.title(class_names[int(y_batch[i])])\n",
        "    plt.axis('off')\n",
        "plt.suptitle(\"Sample Images\")\n",
        "plt.show()"
      ]
    },
    {
      "cell_type": "code",
      "execution_count": null,
      "id": "obZlMiIgsRUo",
      "metadata": {
        "id": "obZlMiIgsRUo"
      },
      "outputs": [],
      "source": [
        "# Define callbacks for underfitting\n",
        "callbacks = [\n",
        "    EarlyStopping(monitor='val_loss', patience=15, restore_best_weights=True),  # Stop if val loss doesn't improve\n",
        "    ReduceLROnPlateau(factor=0.5, patience=5, min_lr=1e-6)  # Reduce LR on plateau\n",
        "]"
      ]
    },
    {
      "cell_type": "code",
      "execution_count": null,
      "id": "ClvaXygCsRRw",
      "metadata": {
        "id": "ClvaXygCsRRw"
      },
      "outputs": [],
      "source": [
        "# Build baseline CNN with Dropout and L2 to reduce overfitting\n",
        "model_baseline = Sequential([\n",
        "    Input(shape=(IMG_HEIGHT, IMG_WIDTH, IMG_CHANNELS)),\n",
        "    Conv2D(32, (3, 3), activation='relu'),\n",
        "    MaxPooling2D((2, 2)),\n",
        "    Conv2D(64, (3, 3), activation='relu'),\n",
        "    MaxPooling2D((2, 2)),\n",
        "    Conv2D(128, (3, 3), activation='relu'),\n",
        "    MaxPooling2D((2, 2)),\n",
        "    Flatten(),\n",
        "    Dense(128, activation='relu'),\n",
        "    Dense(NUM_CLASSES, activation='softmax')\n",
        "])"
      ]
    },
    {
      "cell_type": "code",
      "execution_count": null,
      "id": "5IiJWdObsROw",
      "metadata": {
        "colab": {
          "base_uri": "https://localhost:8080/",
          "height": 442
        },
        "id": "5IiJWdObsROw",
        "outputId": "7f0e7fbe-04f8-44f5-a6e1-b834c3d8ac97"
      },
      "outputs": [],
      "source": [
        "# Compile model\n",
        "model_baseline.compile(\n",
        "    optimizer='adam',\n",
        "    loss='sparse_categorical_crossentropy',\n",
        "    metrics=['accuracy']\n",
        ")\n",
        "model_baseline.summary()"
      ]
    },
    {
      "cell_type": "code",
      "execution_count": null,
      "id": "HcY6EhTOsPFN",
      "metadata": {
        "colab": {
          "base_uri": "https://localhost:8080/"
        },
        "id": "HcY6EhTOsPFN",
        "outputId": "1f6dc1bd-beb7-438e-d86a-ec02d6097c9b"
      },
      "outputs": [],
      "source": [
        "# Train model\n",
        "history_baseline = model_baseline.fit(\n",
        "    train_gen,\n",
        "    validation_data=val_gen,\n",
        "    epochs=100,  # Increased to address underfitting\n",
        "    class_weight=class_weights_dict,  # Handle class imbalance\n",
        "    callbacks=callbacks\n",
        ")"
      ]
    },
    {
      "cell_type": "code",
      "execution_count": null,
      "id": "DBn6WhEPsQRN",
      "metadata": {
        "colab": {
          "base_uri": "https://localhost:8080/",
          "height": 391
        },
        "id": "DBn6WhEPsQRN",
        "outputId": "029a4643-b0a3-4687-d954-24af20919e86"
      },
      "outputs": [],
      "source": [
        "# Plot training & validation accuracy and loss\n",
        "plt.figure(figsize=(12, 4))\n",
        "plt.subplot(1, 2, 1)\n",
        "plt.plot(history_baseline.history['accuracy'], label='Train Acc')\n",
        "plt.plot(history_baseline.history['val_accuracy'], label='Val Acc')\n",
        "plt.title(\"Baseline: Accuracy\")\n",
        "plt.legend()\n",
        "plt.subplot(1, 2, 2)\n",
        "plt.plot(history_baseline.history['loss'], label='Train Loss')\n",
        "plt.plot(history_baseline.history['val_loss'], label='Val Loss')\n",
        "plt.title(\"Baseline: Loss\")\n",
        "plt.legend()\n",
        "plt.show()"
      ]
    },
    {
      "cell_type": "code",
      "execution_count": null,
      "id": "cG4lfr14tHYL",
      "metadata": {
        "colab": {
          "base_uri": "https://localhost:8080/"
        },
        "id": "cG4lfr14tHYL",
        "outputId": "f287493d-89e9-4f76-9cc2-cfa85cfbfd02"
      },
      "outputs": [],
      "source": [
        "# Evaluate on test set\n",
        "test_loss, test_acc = model_baseline.evaluate(test_gen, verbose=0)\n",
        "print(f\"Baseline Test Accuracy: {test_acc:.4f}\")"
      ]
    },
    {
      "cell_type": "code",
      "execution_count": null,
      "id": "SV0K7H-UtHUT",
      "metadata": {
        "colab": {
          "base_uri": "https://localhost:8080/"
        },
        "id": "SV0K7H-UtHUT",
        "outputId": "0e291b7b-f8e7-4e22-8999-e68fa4183b08"
      },
      "outputs": [],
      "source": [
        "# Predictions and classification report\n",
        "y_pred_baseline = model_baseline.predict(test_gen)\n",
        "y_pred_classes = np.argmax(y_pred_baseline, axis=1)\n",
        "y_true = test_gen.classes\n",
        "print(\"Classification Report (Baseline):\")\n",
        "print(classification_report(y_true, y_pred_classes, target_names=class_names))"
      ]
    },
    {
      "cell_type": "code",
      "execution_count": null,
      "id": "p4qVyN3-tHPT",
      "metadata": {
        "colab": {
          "base_uri": "https://localhost:8080/",
          "height": 637
        },
        "id": "p4qVyN3-tHPT",
        "outputId": "96033a87-ef85-494f-c588-f991222b7ff3"
      },
      "outputs": [],
      "source": [
        "# Confusion matrix\n",
        "cm = confusion_matrix(y_true, y_pred_classes)\n",
        "plt.figure(figsize=(8, 6))\n",
        "sns.heatmap(cm, annot=True, fmt='d', cmap='Blues',\n",
        "            xticklabels=class_names, yticklabels=class_names)\n",
        "plt.xlabel('Predicted')\n",
        "plt.ylabel('True')\n",
        "plt.title(\"Confusion Matrix (Baseline)\")\n",
        "plt.show()"
      ]
    },
    {
      "cell_type": "code",
      "execution_count": null,
      "id": "bSQ4UG_7tHMr",
      "metadata": {
        "colab": {
          "base_uri": "https://localhost:8080/",
          "height": 1000
        },
        "id": "bSQ4UG_7tHMr",
        "outputId": "63c22482-5f7d-426c-b401-e0720d68a25a"
      },
      "outputs": [],
      "source": [
        "# Sample predictions\n",
        "x_test_batch, y_test_batch = next(test_gen)\n",
        "y_pred_batch = np.argmax(model_baseline.predict(x_test_batch), axis=1)\n",
        "\n",
        "# Randomly shuffle indices within the batch to display different images each time\n",
        "random_indices = np.random.permutation(x_test_batch.shape[0])[:9]  # Select 9 random indices from 0 to 31\n",
        "\n",
        "plt.figure(figsize=(10, 10))  # Larger figure for clarity\n",
        "for i, idx in enumerate(random_indices):\n",
        "    plt.subplot(3, 3, i + 1)\n",
        "    plt.imshow(x_test_batch[idx])\n",
        "\n",
        "    pred_label = class_names[y_pred_batch[idx]]\n",
        "    true_label = class_names[int(y_test_batch[idx])]\n",
        "\n",
        "    # Use contrasting text with bounding box for better visibility\n",
        "    plt.title(f\"P: {pred_label}\\nT: {true_label}\", fontsize=10,\n",
        "              color='white', backgroundcolor='black', loc='left')\n",
        "    plt.axis('off')\n",
        "\n",
        "plt.suptitle(\"Sample Predictions (Baseline)\", fontsize=16)\n",
        "plt.tight_layout(rect=[0, 0, 1, 0.95])  # Adjust layout to fit suptitle\n",
        "plt.show()"
      ]
    },
    {
      "cell_type": "code",
      "execution_count": null,
      "id": "5EaM5-iqtHJ7",
      "metadata": {
        "id": "5EaM5-iqtHJ7"
      },
      "outputs": [],
      "source": [
        "# Function to build deeper CNN with tuned regularization\n",
        "def build_deeper_cnn():\n",
        "    model = Sequential([\n",
        "        # Block 1\n",
        "        Conv2D(16, (3, 3), activation='relu', input_shape=(IMG_HEIGHT, IMG_WIDTH, IMG_CHANNELS)),\n",
        "        BatchNormalization(),\n",
        "        Conv2D(16, (3, 3), activation='relu', kernel_regularizer=regularizers.l2(1e-2)),\n",
        "        BatchNormalization(),\n",
        "        MaxPooling2D((2, 2)),\n",
        "        Dropout(0.2),\n",
        "\n",
        "        # Block 2\n",
        "        Conv2D(32, (3, 3), activation='relu'),\n",
        "        BatchNormalization(),\n",
        "        Conv2D(32, (3, 3), activation='relu', kernel_regularizer=regularizers.l2(1e-2)),\n",
        "        BatchNormalization(),\n",
        "        MaxPooling2D((2, 2)),\n",
        "        Dropout(0.25),\n",
        "\n",
        "        # Block 3\n",
        "        Conv2D(64, (3, 3), activation='relu'),\n",
        "        BatchNormalization(),\n",
        "        Conv2D(64, (3, 3), activation='relu', kernel_regularizer=regularizers.l2(1e-2)),\n",
        "        BatchNormalization(),\n",
        "        MaxPooling2D((2, 2)),\n",
        "        Dropout(0.3),\n",
        "\n",
        "        # Classifier\n",
        "        Flatten(),\n",
        "        Dense(128, activation='relu', kernel_regularizer=regularizers.l2(1e-2)),\n",
        "        BatchNormalization(),\n",
        "        Dropout(0.4),\n",
        "        Dense(NUM_CLASSES, activation='softmax')\n",
        "    ])\n",
        "    return model"
      ]
    },
    {
      "cell_type": "code",
      "execution_count": null,
      "id": "qZaselp1tHHL",
      "metadata": {
        "colab": {
          "base_uri": "https://localhost:8080/",
          "height": 1000
        },
        "id": "qZaselp1tHHL",
        "outputId": "804b137e-794f-4fde-8a06-e55b7f730451"
      },
      "outputs": [],
      "source": [
        "# Build and compile deeper model\n",
        "model_deeper = build_deeper_cnn()\n",
        "model_deeper.compile(\n",
        "    optimizer='adam',\n",
        "    loss='sparse_categorical_crossentropy',\n",
        "    metrics=['accuracy']\n",
        ")\n",
        "model_deeper.summary()"
      ]
    },
    {
      "cell_type": "code",
      "execution_count": null,
      "id": "dbxIA2cytHES",
      "metadata": {
        "colab": {
          "base_uri": "https://localhost:8080/"
        },
        "id": "dbxIA2cytHES",
        "outputId": "746e1de0-c2c2-4d9b-9244-8340ac6f684e"
      },
      "outputs": [],
      "source": [
        "epochs = 50\n",
        "# Train deeper model\n",
        "start = time.time()\n",
        "history_deeper = model_deeper.fit(\n",
        "    train_gen,\n",
        "    validation_data=val_gen,\n",
        "    epochs=epochs,\n",
        "    class_weight=class_weights_dict,\n",
        "    callbacks=callbacks\n",
        ")\n",
        "print(f\"Deeper model training time: {time.time() - start:.1f} seconds\")"
      ]
    },
    {
      "cell_type": "code",
      "execution_count": null,
      "id": "f5noX8kttHB1",
      "metadata": {
        "colab": {
          "base_uri": "https://localhost:8080/",
          "height": 391
        },
        "id": "f5noX8kttHB1",
        "outputId": "06e73ba5-62d5-49c3-c036-6f6820678bcc"
      },
      "outputs": [],
      "source": [
        "# Plot accuracy/loss\n",
        "plt.figure(figsize=(12, 4))\n",
        "plt.subplot(1, 2, 1)\n",
        "plt.plot(history_deeper.history['accuracy'], label='Train Acc')\n",
        "plt.plot(history_deeper.history['val_accuracy'], label='Val Acc')\n",
        "plt.title(\"Deeper Model Accuracy\")\n",
        "plt.legend()\n",
        "plt.subplot(1, 2, 2)\n",
        "plt.plot(history_deeper.history['loss'], label='Train Loss')\n",
        "plt.plot(history_deeper.history['val_loss'], label='Val Loss')\n",
        "plt.title(\"Deeper Model Loss\")\n",
        "plt.legend()\n",
        "plt.show()"
      ]
    },
    {
      "cell_type": "code",
      "execution_count": null,
      "id": "ZXl3lN0OtG_F",
      "metadata": {
        "colab": {
          "base_uri": "https://localhost:8080/"
        },
        "id": "ZXl3lN0OtG_F",
        "outputId": "9d383ca6-88bc-4fd6-eeb9-bd8bd02773e1"
      },
      "outputs": [],
      "source": [
        "# Evaluate deeper model\n",
        "test_loss_d, test_acc_d = model_deeper.evaluate(test_gen, verbose=0)\n",
        "print(f\"Deeper Model Test Accuracy: {test_acc_d:.4f}\")"
      ]
    },
    {
      "cell_type": "code",
      "execution_count": null,
      "id": "BmlC4rgTtG8b",
      "metadata": {
        "colab": {
          "base_uri": "https://localhost:8080/",
          "height": 949
        },
        "id": "BmlC4rgTtG8b",
        "outputId": "63bb50cf-0411-46b4-a0be-4c4eb63652a2"
      },
      "outputs": [],
      "source": [
        "# Predictions\n",
        "y_pred_deeper = np.argmax(model_deeper.predict(test_gen), axis=1)\n",
        "print(\"Classification Report (Deeper):\")\n",
        "print(classification_report(y_true, y_pred_deeper, target_names=class_names))\n",
        "cm_d = confusion_matrix(y_true, y_pred_deeper)\n",
        "plt.figure(figsize=(8, 6))\n",
        "sns.heatmap(cm_d, annot=True, fmt='d', cmap='Blues',\n",
        "            xticklabels=class_names, yticklabels=class_names)\n",
        "plt.xlabel('Predicted')\n",
        "plt.ylabel('True')\n",
        "plt.title(\"Confusion Matrix (Deeper)\")\n",
        "plt.show()"
      ]
    },
    {
      "cell_type": "code",
      "execution_count": null,
      "id": "JWDlUmpftG0z",
      "metadata": {
        "colab": {
          "base_uri": "https://localhost:8080/",
          "height": 1000
        },
        "id": "JWDlUmpftG0z",
        "outputId": "699fce64-5928-411e-bd0c-8dd94b028d54"
      },
      "outputs": [],
      "source": [
        "# Sample predictions (Deeper)\n",
        "y_pred_batch = np.argmax(model_deeper.predict(x_test_batch), axis=1)\n",
        "\n",
        "# Randomly shuffle indices within the batch to display different images each time\n",
        "random_indices = np.random.permutation(x_test_batch.shape[0])[:9]  # Select 9 random indices from 0 to 31\n",
        "\n",
        "plt.figure(figsize=(10, 10))  # Bigger size for better visibility\n",
        "for i, idx in enumerate(random_indices):\n",
        "    plt.subplot(3, 3, i + 1)\n",
        "    plt.imshow(x_test_batch[idx])\n",
        "\n",
        "    pred_label = class_names[y_pred_batch[idx]]\n",
        "    true_label = class_names[int(y_test_batch[idx])]\n",
        "\n",
        "    # Use white text on black background for clarity\n",
        "    plt.title(f\"P: {pred_label}\\nT: {true_label}\", fontsize=10,\n",
        "              color='white', backgroundcolor='black', loc='left')\n",
        "    plt.axis('off')\n",
        "\n",
        "plt.suptitle(\"Sample Predictions (Deeper)\", fontsize=16)\n",
        "plt.tight_layout(rect=[0, 0, 1, 0.95])\n",
        "plt.show()"
      ]
    },
    {
      "cell_type": "code",
      "execution_count": null,
      "id": "wkVBUqy1tnYz",
      "metadata": {
        "colab": {
          "base_uri": "https://localhost:8080/"
        },
        "id": "wkVBUqy1tnYz",
        "outputId": "d8670054-603f-4a32-f06e-748d67d99f03"
      },
      "outputs": [],
      "source": [
        "from tensorflow.keras.optimizers import SGD\n",
        "\n",
        "# Compare optimizers\n",
        "adam_acc = test_acc_d\n",
        "\n",
        "# Deeper model with SGD\n",
        "model_deeper_sgd = build_deeper_cnn()\n",
        "model_deeper_sgd.compile(\n",
        "    optimizer=SGD(learning_rate=0.01, momentum=0.9),\n",
        "    loss='sparse_categorical_crossentropy',\n",
        "    metrics=['accuracy']\n",
        ")\n",
        "start = time.time()\n",
        "history_sgd = model_deeper_sgd.fit(\n",
        "    train_gen,\n",
        "    validation_data=val_gen,\n",
        "    epochs=100,\n",
        "    class_weight=class_weights_dict,\n",
        "    callbacks=callbacks\n",
        ")\n",
        "sgd_time = time.time() - start\n",
        "_, sgd_acc = model_deeper_sgd.evaluate(test_gen, verbose=0)\n",
        "print(f\"SGD Test Accuracy: {sgd_acc:.4f} (Time: {sgd_time:.1f}s)\")"
      ]
    },
    {
      "cell_type": "code",
      "execution_count": null,
      "id": "U9EtQK6ZtnVT",
      "metadata": {
        "colab": {
          "base_uri": "https://localhost:8080/"
        },
        "id": "U9EtQK6ZtnVT",
        "outputId": "57570778-81d3-448f-917f-75d573bde59b"
      },
      "outputs": [],
      "source": [
        "# Report comparison\n",
        "print(f\"Baseline Test Accuracy: {test_acc:.4f}\")\n",
        "print(f\"Deeper (Adam) Test Accuracy: {adam_acc:.4f}\")\n",
        "print(f\"Deeper (SGD) Test Accuracy: {sgd_acc:.4f}\")"
      ]
    },
    {
      "cell_type": "code",
      "execution_count": null,
      "id": "OIQ-B6EitnSj",
      "metadata": {
        "colab": {
          "base_uri": "https://localhost:8080/"
        },
        "id": "OIQ-B6EitnSj",
        "outputId": "ad10eb2a-7150-4b5f-9045-ad5b3f29bad6"
      },
      "outputs": [],
      "source": [
        "# Summary table\n",
        "import pandas as pd\n",
        "results = pd.DataFrame({\n",
        "    'Model': ['Baseline', 'Deeper (Adam)', 'Deeper (SGD)'],\n",
        "    'Test Accuracy': [test_acc, adam_acc, sgd_acc]\n",
        "})\n",
        "print(\"\\nSummary of Results:\")\n",
        "print(results)"
      ]
    },
    {
      "cell_type": "code",
      "execution_count": null,
      "id": "zigvPXeWtnP7",
      "metadata": {
        "id": "zigvPXeWtnP7"
      },
      "outputs": [],
      "source": [
        "from tensorflow.keras.layers import GlobalAveragePooling2D, Input\n",
        "from tensorflow.keras.models import Model\n",
        "from tensorflow.keras.optimizers import Adam\n",
        "from tensorflow.keras.callbacks import ModelCheckpoint\n",
        "from tensorflow.keras.applications.vgg16 import preprocess_input"
      ]
    },
    {
      "cell_type": "code",
      "execution_count": null,
      "id": "henr2Lx-tnNU",
      "metadata": {
        "id": "henr2Lx-tnNU"
      },
      "outputs": [],
      "source": [
        "alexnet_datagen = ImageDataGenerator(\n",
        "    rescale=1./255,\n",
        "    rotation_range=20,\n",
        "    width_shift_range=0.2,\n",
        "    height_shift_range=0.2,\n",
        "    shear_range=0.2,\n",
        "    zoom_range=0.2,\n",
        "    horizontal_flip=True,\n",
        "    validation_split=0.2\n",
        ")"
      ]
    },
    {
      "cell_type": "code",
      "execution_count": null,
      "id": "-FwUUurStnKr",
      "metadata": {
        "colab": {
          "base_uri": "https://localhost:8080/"
        },
        "id": "-FwUUurStnKr",
        "outputId": "6b21a8a8-faf9-4c73-8ac8-65a72b982a50"
      },
      "outputs": [],
      "source": [
        "train_gen_alex = alexnet_datagen.flow_from_directory(\n",
        "    train_dir,\n",
        "    target_size=(IMG_HEIGHT, IMG_WIDTH),\n",
        "    batch_size=BATCH_SIZE,\n",
        "    class_mode='sparse',\n",
        "    subset='training'\n",
        ")"
      ]
    },
    {
      "cell_type": "code",
      "execution_count": null,
      "id": "grz_9Q7YtnH7",
      "metadata": {
        "colab": {
          "base_uri": "https://localhost:8080/"
        },
        "id": "grz_9Q7YtnH7",
        "outputId": "407aad44-b52f-4558-ef49-9d07062fe4bb"
      },
      "outputs": [],
      "source": [
        "val_gen_alex = alexnet_datagen.flow_from_directory(\n",
        "    train_dir,\n",
        "    target_size=(IMG_HEIGHT, IMG_WIDTH),\n",
        "    batch_size=BATCH_SIZE,\n",
        "    class_mode='sparse',\n",
        "    subset='validation'\n",
        ")"
      ]
    },
    {
      "cell_type": "code",
      "execution_count": null,
      "id": "ACn47fYDtnE7",
      "metadata": {
        "colab": {
          "base_uri": "https://localhost:8080/"
        },
        "id": "ACn47fYDtnE7",
        "outputId": "2250e9e7-cbcc-48f1-a21f-14b929869358"
      },
      "outputs": [],
      "source": [
        "test_gen_alex = alexnet_datagen.flow_from_directory(\n",
        "    test_dir,\n",
        "    target_size=(IMG_HEIGHT, IMG_WIDTH),\n",
        "    batch_size=BATCH_SIZE,\n",
        "    class_mode='sparse',\n",
        "    shuffle=False\n",
        ")"
      ]
    },
    {
      "cell_type": "code",
      "execution_count": null,
      "id": "962c69d7",
      "metadata": {},
      "outputs": [],
      "source": [
        "from tensorflow.keras import layers, models"
      ]
    },
    {
      "cell_type": "code",
      "execution_count": null,
      "id": "rmk_xjABtnCD",
      "metadata": {
        "id": "rmk_xjABtnCD"
      },
      "outputs": [],
      "source": [
        "def build_alexnet_model():\n",
        "    model = models.Sequential([\n",
        "        layers.Conv2D(96, (11, 11), strides=4, activation='relu', input_shape=(IMG_HEIGHT, IMG_WIDTH, IMG_CHANNELS)),\n",
        "        layers.BatchNormalization(),\n",
        "        layers.MaxPooling2D(pool_size=(3, 3), strides=2),\n",
        "        \n",
        "        layers.Conv2D(256, (5, 5), padding='same', activation='relu'),\n",
        "        layers.BatchNormalization(),\n",
        "        layers.MaxPooling2D(pool_size=(3, 3), strides=2),\n",
        "        \n",
        "        layers.Conv2D(384, (3, 3), padding='same', activation='relu'),\n",
        "        layers.Conv2D(384, (3, 3), padding='same', activation='relu'),\n",
        "        layers.Conv2D(256, (3, 3), padding='same', activation='relu'),\n",
        "        layers.MaxPooling2D(pool_size=(3, 3), strides=2),\n",
        "\n",
        "        layers.Flatten(),\n",
        "        layers.Dense(4096, activation='relu'),\n",
        "        layers.Dropout(0.5),\n",
        "        layers.Dense(4096, activation='relu'),\n",
        "        layers.Dropout(0.5),\n",
        "        layers.Dense(NUM_CLASSES, activation='softmax')\n",
        "    ])\n",
        "    return model\n"
      ]
    },
    {
      "cell_type": "code",
      "execution_count": null,
      "id": "pevbEKOZtm_M",
      "metadata": {
        "colab": {
          "base_uri": "https://localhost:8080/",
          "height": 392
        },
        "id": "pevbEKOZtm_M",
        "outputId": "ebc99434-e3c1-4345-adb9-2ac2dcd3a13f"
      },
      "outputs": [],
      "source": [
        "alexnet_model = build_alexnet_model()\n",
        "alexnet_model.compile(\n",
        "    optimizer=Adam(learning_rate=1e-4),\n",
        "    loss='sparse_categorical_crossentropy',\n",
        "    metrics=['accuracy']\n",
        ")\n",
        "\n",
        "alexnet_model.summary()\n"
      ]
    },
    {
      "cell_type": "code",
      "execution_count": null,
      "id": "Y6x8pksEtm57",
      "metadata": {
        "id": "Y6x8pksEtm57"
      },
      "outputs": [],
      "source": [
        "from tensorflow.keras.callbacks import EarlyStopping, ModelCheckpoint, ReduceLROnPlateau\n",
        "\n",
        "alexnet_callbacks = [\n",
        "    EarlyStopping(monitor='val_loss', patience=5, restore_best_weights=True),\n",
        "    ModelCheckpoint('alexnet_best.keras', monitor='val_loss', save_best_only=True),\n",
        "    ReduceLROnPlateau(monitor='val_loss', factor=0.5, patience=3, min_lr=1e-6)\n",
        "]\n"
      ]
    },
    {
      "cell_type": "code",
      "execution_count": null,
      "id": "79XH9KBqt5Xo",
      "metadata": {
        "colab": {
          "base_uri": "https://localhost:8080/"
        },
        "id": "79XH9KBqt5Xo",
        "outputId": "8eed59da-a3e6-46f2-bf3b-454ca54068c9"
      },
      "outputs": [],
      "source": [
        "alexnet_epochs = 50\n",
        "start_time = time.time()\n",
        "\n",
        "history_alexnet = alexnet_model.fit(\n",
        "    train_gen_alex,\n",
        "    validation_data=val_gen_alex,\n",
        "    epochs=alexnet_epochs,\n",
        "    class_weight=class_weights_dict,\n",
        "    callbacks=alexnet_callbacks\n",
        ")\n",
        "\n",
        "alexnet_train_time = time.time() - start_time"
      ]
    },
    {
      "cell_type": "code",
      "execution_count": null,
      "id": "IoKeZ1BTt5Uh",
      "metadata": {
        "colab": {
          "base_uri": "https://localhost:8080/"
        },
        "id": "IoKeZ1BTt5Uh",
        "outputId": "ec9fffea-5654-4726-b75e-028a9761e9bb"
      },
      "outputs": [],
      "source": [
        "# Evaluate VGG16 model (frozen)\n",
        "test_loss_alexnet, test_acc_alexnet = alexnet_model.evaluate(test_gen_alex, verbose=0)\n",
        "print(f\"AlexNet Test Accuracy: {test_acc_alexnet:.4f}\")\n",
        "\n",
        "y_pred_alexnet = np.argmax(alexnet_model.predict(test_gen_alex), axis=1)\n",
        "y_true_alexnet = test_gen_alex.classes\n",
        "\n",
        "print(\"Classification Report (AlexNet):\")\n",
        "print(classification_report(y_true_alexnet, y_pred_alexnet, target_names=class_names))"
      ]
    },
    {
      "cell_type": "code",
      "execution_count": null,
      "id": "ho1XFbdYt5O5",
      "metadata": {
        "colab": {
          "base_uri": "https://localhost:8080/",
          "height": 391
        },
        "id": "ho1XFbdYt5O5",
        "outputId": "f0667643-ba2b-468b-f2b7-04894b65b2c0"
      },
      "outputs": [],
      "source": [
        "import matplotlib.pyplot as plt\n",
        "\n",
        "plt.figure(figsize=(12, 4))\n",
        "plt.subplot(1, 2, 1)\n",
        "plt.plot(history_alexnet.history['accuracy'], label='Train Acc')\n",
        "plt.plot(history_alexnet.history['val_accuracy'], label='Val Acc')\n",
        "plt.title(\"AlexNet Accuracy\")\n",
        "plt.legend()\n",
        "\n",
        "plt.subplot(1, 2, 2)\n",
        "plt.plot(history_alexnet.history['loss'], label='Train Loss')\n",
        "plt.plot(history_alexnet.history['val_loss'], label='Val Loss')\n",
        "plt.title(\"AlexNet Loss\")\n",
        "plt.legend()\n",
        "plt.show()\n"
      ]
    },
    {
      "cell_type": "code",
      "execution_count": null,
      "id": "nyHtEED8t5MJ",
      "metadata": {
        "colab": {
          "base_uri": "https://localhost:8080/",
          "height": 637
        },
        "id": "nyHtEED8t5MJ",
        "outputId": "bef034f8-dad9-470e-fecc-fd58b325a70f"
      },
      "outputs": [],
      "source": [
        "import seaborn as sns\n",
        "\n",
        "cm_alexnet = confusion_matrix(y_true_alexnet, y_pred_alexnet)\n",
        "plt.figure(figsize=(8, 6))\n",
        "sns.heatmap(cm_alexnet, annot=True, fmt='d', cmap='Blues',\n",
        "            xticklabels=class_names, yticklabels=class_names)\n",
        "plt.xlabel('Predicted')\n",
        "plt.ylabel('True')\n",
        "plt.title(\"Confusion Matrix (AlexNet)\")\n",
        "plt.show()\n"
      ]
    },
    {
      "cell_type": "code",
      "execution_count": null,
      "id": "1b8bf369",
      "metadata": {},
      "outputs": [],
      "source": [
        "x_test_batch, y_test_batch = next(test_gen_alex)\n",
        "y_pred_batch_alexnet = np.argmax(alexnet_model.predict(x_test_batch), axis=1)\n",
        "\n",
        "random_indices = np.random.permutation(x_test_batch.shape[0])[:9]\n",
        "plt.figure(figsize=(10, 10))\n",
        "for i, idx in enumerate(random_indices):\n",
        "    plt.subplot(3, 3, i + 1)\n",
        "    plt.imshow(x_test_batch[idx])\n",
        "    pred_label = class_names[y_pred_batch_alexnet[idx]]\n",
        "    true_label = class_names[int(y_test_batch[idx])]\n",
        "    plt.title(f\"P: {pred_label}\\nT: {true_label}\", fontsize=10, color='white', backgroundcolor='black', loc='left')\n",
        "    plt.axis('off')\n",
        "plt.suptitle(\"Sample Predictions (AlexNet)\", fontsize=16)\n",
        "plt.tight_layout(rect=[0, 0, 1, 0.95])\n",
        "plt.show()\n"
      ]
    },
    {
      "cell_type": "code",
      "execution_count": null,
      "id": "IjQJq9OuuHw0",
      "metadata": {
        "colab": {
          "base_uri": "https://localhost:8080/"
        },
        "id": "IjQJq9OuuHw0",
        "outputId": "09e90d77-1d22-4ef7-ae83-9600210aa9ff"
      },
      "outputs": [],
      "source": [
        "# Print all test accuracies\n",
        "print(f\"{'Model':<30} {'Optimizer':<10} {'Test Accuracy':<15}\")\n",
        "print(\"-\" * 55)\n",
        "# Baseline model\n",
        "print(f\"{'Baseline CNN':<30} {'Adam':<10} {test_acc:.4f}\")\n",
        "\n",
        "# Deeper CNN with Adam\n",
        "print(f\"{'Deeper CNN':<30} {'Adam':<10} {adam_acc:.4f}\")\n",
        "\n",
        "# Deeper CNN with SGD\n",
        "print(f\"{'Deeper CNN':<30} {'SGD':<10} {sgd_acc:.4f}\")\n",
        "\n",
        "# Alex Net\n",
        "print(f\"{'Alex Net':<30} {'Adam':<10} {test_acc_alexnet:.4f}\")"
      ]
    }
  ],
  "metadata": {
    "accelerator": "GPU",
    "colab": {
      "gpuType": "T4",
      "provenance": []
    },
    "kernelspec": {
      "display_name": ".venv",
      "language": "python",
      "name": "python3"
    },
    "language_info": {
      "codemirror_mode": {
        "name": "ipython",
        "version": 3
      },
      "file_extension": ".py",
      "mimetype": "text/x-python",
      "name": "python",
      "nbconvert_exporter": "python",
      "pygments_lexer": "ipython3",
      "version": "3.11.3"
    }
  },
  "nbformat": 4,
  "nbformat_minor": 5
}
